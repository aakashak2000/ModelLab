{
 "cells": [
  {
   "cell_type": "code",
   "execution_count": 1,
   "metadata": {},
   "outputs": [],
   "source": [
    "import torch"
   ]
  },
  {
   "cell_type": "code",
   "execution_count": 7,
   "metadata": {},
   "outputs": [
    {
     "name": "stdout",
     "output_type": "stream",
     "text": [
      "tensor([[1, 2, 3, 4]]) torch.Size([1, 4])\n",
      "2\n"
     ]
    }
   ],
   "source": [
    "x = torch.tensor([[1,2,3,4]])\n",
    "print(x, x.shape)\n",
    "print(x.dim())"
   ]
  },
  {
   "cell_type": "code",
   "execution_count": 11,
   "metadata": {},
   "outputs": [
    {
     "name": "stdout",
     "output_type": "stream",
     "text": [
      "torch.Size([2, 3, 4])\n",
      "3\n"
     ]
    }
   ],
   "source": [
    "x = torch.tensor([[[1,2,3,4], \n",
    "                   [2,3,4,5], \n",
    "                   [2,3,4,6]], \n",
    "\n",
    "                  [[1,2,3,6], \n",
    "                   [2,3,4,5], \n",
    "                   [2,3,4,6]]])\n",
    "print(x.shape)\n",
    "print(x.dim())"
   ]
  },
  {
   "cell_type": "code",
   "execution_count": 13,
   "metadata": {},
   "outputs": [
    {
     "data": {
      "text/plain": [
       "(tensor(2), torch.Size([]))"
      ]
     },
     "execution_count": 13,
     "metadata": {},
     "output_type": "execute_result"
    }
   ],
   "source": [
    "scalar = torch.tensor(2)\n",
    "scalar, scalar.shape"
   ]
  },
  {
   "cell_type": "code",
   "execution_count": 17,
   "metadata": {},
   "outputs": [
    {
     "name": "stdout",
     "output_type": "stream",
     "text": [
      "Batch of sequences: \n",
      "tensor([[10, 20, 30, 40],\n",
      "        [50, 60, 70, 80],\n",
      "        [90, 10, 20, 30]]) - Shape: torch.Size([3, 4])\n"
     ]
    }
   ],
   "source": [
    "# Batch processimg\n",
    "batch_size = 3\n",
    "sequence_length = 4\n",
    "batch_sequences = torch.tensor([\n",
    "    [10,20,30,40],\n",
    "    [50,60,70,80],\n",
    "    [90,10,20,30]\n",
    "])\n",
    "\n",
    "print(f'Batch of sequences: \\n{batch_sequences} - Shape: {batch_sequences.shape}')"
   ]
  },
  {
   "cell_type": "code",
   "execution_count": 24,
   "metadata": {},
   "outputs": [
    {
     "name": "stdout",
     "output_type": "stream",
     "text": [
      "Batch of sequences with features: \n",
      "tensor([[[[1.0000, 2.0000],\n",
      "          [3.0000, 4.0000],\n",
      "          [5.0000, 6.0000],\n",
      "          [7.0000, 8.0000]],\n",
      "\n",
      "         [[1.5000, 2.5000],\n",
      "          [3.5000, 4.5000],\n",
      "          [5.5000, 6.5000],\n",
      "          [7.5000, 8.5000]],\n",
      "\n",
      "         [[1.5000, 2.0000],\n",
      "          [3.0000, 4.5000],\n",
      "          [5.5000, 6.0000],\n",
      "          [7.0000, 8.5000]]],\n",
      "\n",
      "\n",
      "        [[[1.0000, 2.0000],\n",
      "          [3.0000, 4.0000],\n",
      "          [5.0000, 6.0000],\n",
      "          [7.0000, 8.0000]],\n",
      "\n",
      "         [[1.5000, 2.5000],\n",
      "          [3.5000, 4.5000],\n",
      "          [5.5000, 6.5000],\n",
      "          [7.5000, 8.5000]],\n",
      "\n",
      "         [[1.5000, 2.0000],\n",
      "          [3.0000, 4.5000],\n",
      "          [5.5000, 6.0000],\n",
      "          [7.0000, 8.5000]]]]) - Shape: torch.Size([2, 3, 4, 2])\n"
     ]
    }
   ],
   "source": [
    "feature_size = 2\n",
    "batch_with_features = torch.tensor([\n",
    "    [[[1.0,2.0], [3.0,4.0], [5.0,6.0], [7.0,8.0]],\n",
    "     [[1.5,2.5], [3.5,4.5], [5.5,6.5], [7.5,8.5]],\n",
    "     [[1.5,2.0], [3.0,4.5], [5.5,6.0], [7.0,8.5]]], \n",
    "     \n",
    "    [[[1.0,2.0], [3.0,4.0], [5.0,6.0], [7.0,8.0]],\n",
    "     [[1.5,2.5], [3.5,4.5], [5.5,6.5], [7.5,8.5]],\n",
    "     [[1.5,2.0], [3.0,4.5], [5.5,6.0], [7.0,8.5]]], \n",
    "     \n",
    "])\n",
    "print(f'Batch of sequences with features: \\n{batch_with_features} - Shape: {batch_with_features.shape}')"
   ]
  },
  {
   "cell_type": "code",
   "execution_count": 26,
   "metadata": {},
   "outputs": [
    {
     "name": "stdout",
     "output_type": "stream",
     "text": [
      "tensor([[ 1,  2,  3],\n",
      "        [ 4,  5,  6],\n",
      "        [ 7,  8,  9],\n",
      "        [10, 11, 12]]), Shape: torch.Size([4, 3])\n"
     ]
    }
   ],
   "source": [
    "original = torch.tensor([[1, 2, 3], [4, 5, 6], [7, 8, 9], [10, 11, 12]])\n",
    "print(f\"{original}, Shape: {original.shape}\")"
   ]
  },
  {
   "cell_type": "code",
   "execution_count": 28,
   "metadata": {},
   "outputs": [
    {
     "data": {
      "text/plain": [
       "(tensor([[ 1,  2,  3,  4,  5,  6],\n",
       "         [ 7,  8,  9, 10, 11, 12]]),\n",
       " tensor([[ 1,  2],\n",
       "         [ 3,  4],\n",
       "         [ 5,  6],\n",
       "         [ 7,  8],\n",
       "         [ 9, 10],\n",
       "         [11, 12]]))"
      ]
     },
     "execution_count": 28,
     "metadata": {},
     "output_type": "execute_result"
    }
   ],
   "source": [
    "original.reshape((2,6)), original.reshape((6,2))"
   ]
  },
  {
   "cell_type": "code",
   "execution_count": 30,
   "metadata": {},
   "outputs": [
    {
     "data": {
      "text/plain": [
       "[1, 2, 3, 4, 5, 6, 7, 8, 9, 10, 11, 12]"
      ]
     },
     "execution_count": 30,
     "metadata": {},
     "output_type": "execute_result"
    }
   ],
   "source": [
    "original.reshape(-1).tolist()"
   ]
  },
  {
   "cell_type": "code",
   "execution_count": 32,
   "metadata": {},
   "outputs": [
    {
     "data": {
      "text/plain": [
       "(tensor([[ 1,  2,  3,  4],\n",
       "         [ 5,  6,  7,  8],\n",
       "         [ 9, 10, 11, 12]]),\n",
       " torch.Size([3, 4]))"
      ]
     },
     "execution_count": 32,
     "metadata": {},
     "output_type": "execute_result"
    }
   ],
   "source": [
    "viewed = original.view(3,4)\n",
    "viewed, viewed.shape\n"
   ]
  },
  {
   "cell_type": "code",
   "execution_count": 33,
   "metadata": {},
   "outputs": [],
   "source": [
    "viewed[0,0] = 10"
   ]
  },
  {
   "cell_type": "code",
   "execution_count": 34,
   "metadata": {},
   "outputs": [
    {
     "data": {
      "text/plain": [
       "tensor([[10,  2,  3,  4],\n",
       "        [ 5,  6,  7,  8],\n",
       "        [ 9, 10, 11, 12]])"
      ]
     },
     "execution_count": 34,
     "metadata": {},
     "output_type": "execute_result"
    }
   ],
   "source": [
    "viewed"
   ]
  },
  {
   "cell_type": "code",
   "execution_count": 35,
   "metadata": {},
   "outputs": [
    {
     "data": {
      "text/plain": [
       "tensor([[10, 20, 30, 40],\n",
       "        [50, 60, 70, 80],\n",
       "        [90, 10, 20, 30]])"
      ]
     },
     "execution_count": 35,
     "metadata": {},
     "output_type": "execute_result"
    }
   ],
   "source": [
    "batch_sequences"
   ]
  },
  {
   "cell_type": "code",
   "execution_count": 36,
   "metadata": {},
   "outputs": [
    {
     "data": {
      "text/plain": [
       "tensor([10, 20, 30, 40])"
      ]
     },
     "execution_count": 36,
     "metadata": {},
     "output_type": "execute_result"
    }
   ],
   "source": [
    "batch_sequences[0]"
   ]
  },
  {
   "cell_type": "code",
   "execution_count": 37,
   "metadata": {},
   "outputs": [
    {
     "data": {
      "text/plain": [
       "tensor([10, 50, 90])"
      ]
     },
     "execution_count": 37,
     "metadata": {},
     "output_type": "execute_result"
    }
   ],
   "source": [
    "batch_sequences[:, 0]"
   ]
  },
  {
   "cell_type": "code",
   "execution_count": 38,
   "metadata": {},
   "outputs": [
    {
     "data": {
      "text/plain": [
       "tensor([40, 80, 30])"
      ]
     },
     "execution_count": 38,
     "metadata": {},
     "output_type": "execute_result"
    }
   ],
   "source": [
    "batch_sequences[:, -1]"
   ]
  },
  {
   "cell_type": "code",
   "execution_count": 39,
   "metadata": {},
   "outputs": [
    {
     "name": "stdout",
     "output_type": "stream",
     "text": [
      "tensor([1, 2, 3]) torch.Size([3])\n"
     ]
    }
   ],
   "source": [
    "singleton = torch.tensor([1,2,3])\n",
    "print(singleton, singleton.shape)"
   ]
  },
  {
   "cell_type": "code",
   "execution_count": 44,
   "metadata": {},
   "outputs": [
    {
     "data": {
      "text/plain": [
       "1"
      ]
     },
     "execution_count": 44,
     "metadata": {},
     "output_type": "execute_result"
    }
   ],
   "source": [
    "singleton.dim()"
   ]
  },
  {
   "cell_type": "code",
   "execution_count": 51,
   "metadata": {},
   "outputs": [
    {
     "name": "stdout",
     "output_type": "stream",
     "text": [
      "torch.Size([2, 3]) torch.Size([3])\n"
     ]
    },
    {
     "data": {
      "text/plain": [
       "tensor([[11, 22, 33],\n",
       "        [14, 25, 36]])"
      ]
     },
     "execution_count": 51,
     "metadata": {},
     "output_type": "execute_result"
    }
   ],
   "source": [
    "data = torch.tensor([[1,2,3], [4,5,6]])\n",
    "biases = torch.tensor([10,20,30])\n",
    "print(data.shape, biases.shape)\n",
    "data + biases"
   ]
  },
  {
   "cell_type": "code",
   "execution_count": 54,
   "metadata": {},
   "outputs": [
    {
     "data": {
      "text/plain": [
       "tensor([[11, 22, 33],\n",
       "        [14, 25, 36]])"
      ]
     },
     "execution_count": 54,
     "metadata": {},
     "output_type": "execute_result"
    }
   ],
   "source": [
    "# We have a vector of 3 values\n",
    "biases = torch.tensor([10, 20, 30])  # Shape: [3]\n",
    "\n",
    "# And a batch of 2 samples, each with 3 features\n",
    "data = torch.tensor([[1, 2, 3], \n",
    "                     [4, 5, 6]])    # Shape: [2, 3]\n",
    "\n",
    "# Direct addition fails!\n",
    "result = data + biases  # ERROR: shapes don't match\n",
    "result"
   ]
  },
  {
   "cell_type": "code",
   "execution_count": 67,
   "metadata": {},
   "outputs": [
    {
     "name": "stdout",
     "output_type": "stream",
     "text": [
      "tensor([4, 5]) tensor([1, 2, 3])\n",
      "torch.Size([2]) torch.Size([3])\n"
     ]
    }
   ],
   "source": [
    "col = torch.tensor([1,2,3])\n",
    "row = torch.tensor([4,5])\n",
    "\n",
    "print(row, col)\n",
    "print(row.shape, col.shape)"
   ]
  },
  {
   "cell_type": "code",
   "execution_count": null,
   "metadata": {},
   "outputs": [],
   "source": []
  },
  {
   "cell_type": "code",
   "execution_count": null,
   "metadata": {},
   "outputs": [],
   "source": []
  },
  {
   "cell_type": "code",
   "execution_count": null,
   "metadata": {},
   "outputs": [],
   "source": []
  }
 ],
 "metadata": {
  "kernelspec": {
   "display_name": "base",
   "language": "python",
   "name": "python3"
  },
  "language_info": {
   "codemirror_mode": {
    "name": "ipython",
    "version": 3
   },
   "file_extension": ".py",
   "mimetype": "text/x-python",
   "name": "python",
   "nbconvert_exporter": "python",
   "pygments_lexer": "ipython3",
   "version": "3.10.10"
  }
 },
 "nbformat": 4,
 "nbformat_minor": 2
}
